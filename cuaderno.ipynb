{
 "cells": [
  {
   "attachments": {},
   "cell_type": "markdown",
   "metadata": {},
   "source": [
    "Cambiar variables"
   ]
  },
  {
   "cell_type": "code",
   "execution_count": 3,
   "metadata": {},
   "outputs": [
    {
     "name": "stdout",
     "output_type": "stream",
     "text": [
      "a = [1, 2, 3] b = [3, 2, 1]\n",
      "a = [3, 2, 1] b = [1, 2, 3]\n"
     ]
    }
   ],
   "source": [
    "a = [1, 2, 3]\n",
    "b = [3, 2, 1]\n",
    "\n",
    "print(\"a =\" ,a ,\"b =\",  b)\n",
    "a , b = b, a\n",
    "print(\"a =\" ,a ,\"b =\",  b)"
   ]
  },
  {
   "attachments": {},
   "cell_type": "markdown",
   "metadata": {},
   "source": [
    "Else if"
   ]
  },
  {
   "cell_type": "code",
   "execution_count": 7,
   "metadata": {},
   "outputs": [
    {
     "name": "stdout",
     "output_type": "stream",
     "text": [
      "1\n",
      "0\n",
      "-1\n"
     ]
    }
   ],
   "source": [
    "def sign(number):\n",
    "    if(number > 0):\n",
    "        return 1\n",
    "    elif(number < 0):\n",
    "        return -1\n",
    "    else:\n",
    "        return 0\n",
    "\n",
    "print(sign(2))\n",
    "print(sign(0))\n",
    "print(sign(-3))"
   ]
  },
  {
   "attachments": {},
   "cell_type": "markdown",
   "metadata": {},
   "source": [
    "Se pueden usar ifs dentro de las llamadas a funciones"
   ]
  },
  {
   "cell_type": "code",
   "execution_count": 8,
   "metadata": {},
   "outputs": [
    {
     "name": "stdout",
     "output_type": "stream",
     "text": [
      "Splitting 91 candies\n",
      "Splitting 1 candy\n"
     ]
    },
    {
     "data": {
      "text/plain": [
       "1"
      ]
     },
     "execution_count": 8,
     "metadata": {},
     "output_type": "execute_result"
    }
   ],
   "source": [
    "def to_smash(total_candies):\n",
    "    print(\"Splitting\", total_candies, \"candy\" if total_candies == 1 else \"candies\")\n",
    "    return total_candies % 3\n",
    "   \n",
    "    \n",
    "    \n",
    "\n",
    "to_smash(91)\n",
    "to_smash(1)"
   ]
  },
  {
   "attachments": {},
   "cell_type": "markdown",
   "metadata": {},
   "source": [
    "Suma de bools , bool(true) = 1 , bool(false) = 0"
   ]
  },
  {
   "cell_type": "code",
   "execution_count": 14,
   "metadata": {},
   "outputs": [
    {
     "name": "stdout",
     "output_type": "stream",
     "text": [
      "True\n"
     ]
    }
   ],
   "source": [
    "def exactly_one_topping(ketchup, mustard, onion):\n",
    "    #Return whether the customer wants exactly one of the three available toppings\n",
    "    #on their hot dog.\n",
    "   \n",
    "    return (ketchup + mustard + onion) == 1\n",
    "\n",
    "print(exactly_one_topping(True, False,False)) # importante las mayus en true y false"
   ]
  },
  {
   "attachments": {},
   "cell_type": "markdown",
   "metadata": {},
   "source": [
    "en vez de size es len(L)"
   ]
  },
  {
   "cell_type": "code",
   "execution_count": null,
   "metadata": {},
   "outputs": [],
   "source": [
    "def select_second(L):\n",
    "    return L[1] if len(L) > 1 else None"
   ]
  },
  {
   "attachments": {},
   "cell_type": "markdown",
   "metadata": {},
   "source": [
    "Ultimo de una lista de listas"
   ]
  },
  {
   "cell_type": "code",
   "execution_count": null,
   "metadata": {},
   "outputs": [],
   "source": [
    "def losing_team_captain(teams):\n",
    "    #Given a list of teams, where each team is a list of names, return the 2nd player (captain)\n",
    "    #from the last listed team\n",
    "    return teams[- 1][1]"
   ]
  },
  {
   "attachments": {},
   "cell_type": "markdown",
   "metadata": {},
   "source": [
    "Longitud de listas"
   ]
  },
  {
   "cell_type": "code",
   "execution_count": null,
   "metadata": {},
   "outputs": [],
   "source": [
    "a = [1, 2, 3]\n",
    "b = [1, [2, 3]]\n",
    "c = []\n",
    "d = [1, 2, 3][1:]\n",
    "\n",
    "# Put your predictions in the list below. Lengths should contain 4 numbers, the\n",
    "# first being the length of a, the second being the length of b and so on.\n",
    "lengths = [3, 2, 0, 2]"
   ]
  },
  {
   "attachments": {},
   "cell_type": "markdown",
   "metadata": {},
   "source": [
    "\n",
    "    a: There are three items in this list. Nothing tricky yet.\n",
    "    b: The list [2, 3] counts as a single item. It has one item before it. So we have 2 items in the list\n",
    "    c: The empty list has 0 items\n",
    "    d: The expression is the same as the list [2, 3], which has length 2.\n"
   ]
  },
  {
   "attachments": {},
   "cell_type": "markdown",
   "metadata": {},
   "source": [
    "Busqueda de ALGUN"
   ]
  },
  {
   "cell_type": "code",
   "execution_count": null,
   "metadata": {},
   "outputs": [],
   "source": [
    "def has_lucky_number(nums):\n",
    "    return any([num % 7 == 0 for num in nums])"
   ]
  },
  {
   "attachments": {},
   "cell_type": "markdown",
   "metadata": {},
   "source": [
    "Añadir en lista mientras recorres lista"
   ]
  },
  {
   "cell_type": "code",
   "execution_count": null,
   "metadata": {},
   "outputs": [],
   "source": [
    "def elementwise_greater_than(L, thresh):\n",
    "    res = []\n",
    "    for ele in L:\n",
    "        res.append(ele > thresh)\n",
    "    return res\n",
    "\n",
    "def elementwise_greater_than(L, thresh):\n",
    "    return [ele > thresh for ele in L]"
   ]
  },
  {
   "attachments": {},
   "cell_type": "markdown",
   "metadata": {},
   "source": [
    "Recorrer una lista, usar rango"
   ]
  },
  {
   "cell_type": "code",
   "execution_count": null,
   "metadata": {},
   "outputs": [],
   "source": [
    "def menu_is_boring(meals):\n",
    "    # Iterate over all indices of the list, except the last one\n",
    "    for i in range(len(meals)-1):\n",
    "        if meals[i] == meals[i+1]:\n",
    "            return True\n",
    "    return False"
   ]
  },
  {
   "attachments": {},
   "cell_type": "markdown",
   "metadata": {},
   "source": [
    "ejemplos"
   ]
  },
  {
   "cell_type": "code",
   "execution_count": null,
   "metadata": {},
   "outputs": [],
   "source": [
    "def estimate_average_slot_payout(n_runs):\n",
    "    # Play slot machine n_runs times, calculate payout of each\n",
    "    payouts = [play_slot_machine()-1 for i in range(n_runs)]\n",
    "    # Calculate the average value\n",
    "    avg_payout = sum(payouts) / n_runs\n",
    "    return avg_payout\n",
    "\n",
    "estimate_average_slot_payout(10000000)"
   ]
  },
  {
   "attachments": {},
   "cell_type": "markdown",
   "metadata": {},
   "source": [
    "\n",
    "\n",
    "The table below summarizes some important uses of the backslash character.\n",
    "What you type... \tWhat you get \texample \tprint(example)\n",
    "\\' \t   ' \t'What\\'s up?' \tWhat's up?\n",
    "\\\" \t\" \t\"That's \\\"cool\\\"\" \tThat's \"cool\"\n",
    "\\\\ \t\\ \t\"Look, a mountain: /\\\\\" \tLook, a mountain: /\\\n",
    "\\n \t\"1\\n2 3\" \t1\n",
    "                2 3"
   ]
  },
  {
   "attachments": {},
   "cell_type": "markdown",
   "metadata": {},
   "source": [
    "Comprobar digitod de un string"
   ]
  },
  {
   "cell_type": "code",
   "execution_count": 18,
   "metadata": {},
   "outputs": [
    {
     "data": {
      "text/plain": [
       "True"
      ]
     },
     "execution_count": 18,
     "metadata": {},
     "output_type": "execute_result"
    }
   ],
   "source": [
    "def is_valid_zip(zip_code):\n",
    "    return len(zip_code) == 5 and zip_code.isdigit()\n",
    "\n",
    "is_valid_zip(\"12313\")"
   ]
  },
  {
   "attachments": {},
   "cell_type": "markdown",
   "metadata": {},
   "source": [
    "String en listas "
   ]
  },
  {
   "cell_type": "code",
   "execution_count": null,
   "metadata": {},
   "outputs": [],
   "source": [
    "def word_search(doc_list, keyword):\n",
    "    \n",
    "    #Takes a list of documents (each document is a string) and a keyword. \n",
    "    #Returns list of the index values into the original list for all documents \n",
    "   #containing the keyword.\n",
    "\n",
    "    #Example:\n",
    "    #doc_list = [\"The Learn Python Challenge Casino.\", \"They bought a car\", \"Casinoville\"]\n",
    "    #>>> word_search(doc_list, 'casino')\n",
    "    #>>> [0]\n",
    "    \n",
    "    indices = [] \n",
    "    # Iterate through the indices (i) and elements (doc) of documents\n",
    "    for i, doc in enumerate(doc_list):\n",
    "        # Split the string doc into a list of words (according to whitespace)\n",
    "        tokens = doc.split()\n",
    "        # Make a transformed list where we 'normalize' each word to facilitate matching.\n",
    "        # Periods and commas are removed from the end of each word, and it's set to all lowercase.\n",
    "        normalized = [token.rstrip('.,').lower() for token in tokens]\n",
    "        # Is there a match? If so, update the list of matching indices.\n",
    "        if keyword.lower() in normalized:\n",
    "            indices.append(i)\n",
    "    return indices"
   ]
  },
  {
   "attachments": {},
   "cell_type": "markdown",
   "metadata": {},
   "source": [
    "lista indices"
   ]
  },
  {
   "cell_type": "code",
   "execution_count": 1,
   "metadata": {},
   "outputs": [],
   "source": [
    "def multi_word_search(doc_list, keywords):\n",
    "    \n",
    "    #Takes list of documents (each document is a string) and a list of keywords.  \n",
    "    #Returns a dictionary where each key is a keyword, and the value is a list of indices\n",
    "    #(from doc_list) of the documents containing that keyword\n",
    "\n",
    "    #>>> doc_list = [\"The Learn Python Challenge Casino.\", \"They bought a car and a casino\", \"Casinoville\"]\n",
    "    #>>> keywords = ['casino', 'they']\n",
    "    #>>> multi_word_search(doc_list, keywords)\n",
    "    #{'casino': [0, 1], 'they': [1]}\n",
    "   \n",
    "    \n",
    "     def multi_word_search(documents, keywords):\n",
    "        keyword_to_indices = {}\n",
    "        for keyword in keywords:\n",
    "            keyword_to_indices[keyword] = word_search(documents, keyword)\n",
    "        return keyword_to_indices"
   ]
  },
  {
   "attachments": {},
   "cell_type": "markdown",
   "metadata": {},
   "source": [
    "Marisa"
   ]
  },
  {
   "cell_type": "code",
   "execution_count": 5,
   "metadata": {},
   "outputs": [
    {
     "name": "stdout",
     "output_type": "stream",
     "text": [
      "DpljrB\n",
      "Amigo?\n"
     ]
    }
   ],
   "source": [
    "variable = \"Amigo?\"\n",
    "def cifrar_palabra(palabra):\n",
    "    resultado = \"\"\n",
    "    for letra in palabra:\n",
    "       resultado += chr(ord(letra) + 3)\n",
    "    return resultado\n",
    "\n",
    "print(cifrar_palabra(variable))\n",
    "\n",
    "def descifrar_palabra(palabra):\n",
    "    resultado = \"\"\n",
    "    for letra in palabra:\n",
    "       resultado += chr(ord(letra) - 3)\n",
    "    return resultado\n",
    "\n",
    "print(descifrar_palabra(cifrar_palabra(variable)))"
   ]
  },
  {
   "cell_type": "code",
   "execution_count": 51,
   "metadata": {},
   "outputs": [
    {
     "name": "stdout",
     "output_type": "stream",
     "text": [
      "46\n"
     ]
    }
   ],
   "source": [
    "import random\n",
    "def lanzar_dado(num_caras):\n",
    "    return random.randint(0,num_caras)\n",
    "\n",
    "print(lanzar_dado(49))"
   ]
  },
  {
   "attachments": {},
   "cell_type": "markdown",
   "metadata": {},
   "source": [
    "Crea cuadrado"
   ]
  },
  {
   "cell_type": "code",
   "execution_count": 6,
   "metadata": {},
   "outputs": [
    {
     "name": "stdout",
     "output_type": "stream",
     "text": [
      "[[3, 3, 3], [3, 3, 3], [3, 3, 3]]\n"
     ]
    }
   ],
   "source": [
    "def crear_cuadrado(n):\n",
    "    return[[n] * n] * n\n",
    "print(crear_cuadrado(3))\n"
   ]
  },
  {
   "attachments": {},
   "cell_type": "markdown",
   "metadata": {},
   "source": [
    "siguiente mayor"
   ]
  },
  {
   "cell_type": "code",
   "execution_count": 58,
   "metadata": {},
   "outputs": [
    {
     "name": "stdout",
     "output_type": "stream",
     "text": [
      "[-72, -1, 0, 1, 8, -1]\n",
      "[8, 1, 0, -1, -1]\n"
     ]
    }
   ],
   "source": [
    "def siguiente_mayor(lst):\n",
    "    asc = sorted(lst) + [-1]\n",
    "    print(asc)\n",
    "    return [asc[asc.index(i) + 1] for i in lst]\n",
    "\n",
    "lst =   [1, 0, -1, 8, -72]\n",
    "print(siguiente_mayor(lst))\n"
   ]
  },
  {
   "attachments": {},
   "cell_type": "markdown",
   "metadata": {},
   "source": [
    "Ordena positivos, mantén negativos"
   ]
  },
  {
   "cell_type": "code",
   "execution_count": 61,
   "metadata": {},
   "outputs": [
    {
     "name": "stdout",
     "output_type": "stream",
     "text": [
      "[2, 3, -2, 5, -8, 6, -2]\n"
     ]
    }
   ],
   "source": [
    "lst = [6, 3, -2, 5, -8, 2, -2]\n",
    "def ordena_positivos(lst):\n",
    "    positivos = iter(sorted(i for i in lst if i > 0))\n",
    "    \n",
    "    return [next(positivos) if i > 0 else i for i in lst]\n",
    "print(ordena_positivos(lst))"
   ]
  },
  {
   "attachments": {},
   "cell_type": "markdown",
   "metadata": {},
   "source": [
    "PANDA"
   ]
  },
  {
   "attachments": {},
   "cell_type": "markdown",
   "metadata": {},
   "source": [
    ".apply()"
   ]
  },
  {
   "cell_type": "code",
   "execution_count": null,
   "metadata": {},
   "outputs": [],
   "source": [
    "def stars(row):\n",
    "    if row.country == 'Canada':\n",
    "        return 3\n",
    "    elif row.points >= 95:\n",
    "        return 3\n",
    "    elif row.points >= 85:\n",
    "        return 2\n",
    "    else:\n",
    "        return 1\n",
    "        \n",
    "\n",
    "\n",
    "star_ratings = reviews.apply(stars, axis = 'columns')"
   ]
  },
  {
   "attachments": {},
   "cell_type": "markdown",
   "metadata": {},
   "source": [
    "1º codigo machine"
   ]
  },
  {
   "cell_type": "code",
   "execution_count": 2,
   "metadata": {},
   "outputs": [
    {
     "name": "stdout",
     "output_type": "stream",
     "text": [
      "Datos\n",
      "     sepal.length  sepal.width  petal.length  petal.width\n",
      "14            5.8          4.0           1.2          0.2\n",
      "98            5.1          2.5           3.0          1.1\n",
      "75            6.6          3.0           4.4          1.4\n",
      "16            5.4          3.9           1.3          0.4\n",
      "131           7.9          3.8           6.4          2.0\n",
      "56            6.3          3.3           4.7          1.6\n",
      "141           6.9          3.1           5.1          2.3\n",
      "44            5.1          3.8           1.9          0.4\n",
      "29            4.7          3.2           1.6          0.2\n",
      "120           6.9          3.2           5.7          2.3\n",
      "94            5.6          2.7           4.2          1.3\n",
      "5             5.4          3.9           1.7          0.4\n",
      "102           7.1          3.0           5.9          2.1\n",
      "51            6.4          3.2           4.5          1.5\n",
      "78            6.0          2.9           4.5          1.5\n",
      "42            4.4          3.2           1.3          0.2\n",
      "92            5.8          2.6           4.0          1.2\n",
      "66            5.6          3.0           4.5          1.5\n",
      "31            5.4          3.4           1.5          0.4\n",
      "35            5.0          3.2           1.2          0.2\n",
      "90            5.5          2.6           4.4          1.2\n",
      "84            5.4          3.0           4.5          1.5\n",
      "77            6.7          3.0           5.0          1.7\n",
      "40            5.0          3.5           1.3          0.3\n",
      "125           7.2          3.2           6.0          1.8\n",
      "99            5.7          2.8           4.1          1.3\n",
      "33            5.5          4.2           1.4          0.2\n",
      "19            5.1          3.8           1.5          0.3\n",
      "73            6.1          2.8           4.7          1.2\n",
      "146           6.3          2.5           5.0          1.9\n",
      "91            6.1          3.0           4.6          1.4\n",
      "135           7.7          3.0           6.1          2.3\n",
      "69            5.6          2.5           3.9          1.1\n",
      "128           6.4          2.8           5.6          2.1\n",
      "114           5.8          2.8           5.1          2.4\n",
      "48            5.3          3.7           1.5          0.2\n",
      "53            5.5          2.3           4.0          1.3\n",
      "28            5.2          3.4           1.4          0.2\n",
      "54            6.5          2.8           4.6          1.5\n",
      "108           6.7          2.5           5.8          1.8\n",
      "112           6.8          3.0           5.5          2.1\n",
      "17            5.1          3.5           1.4          0.3\n",
      "119           6.0          2.2           5.0          1.5\n",
      "103           6.3          2.9           5.6          1.8\n",
      "58            6.6          2.9           4.6          1.3\n",
      "Resultados\n",
      "14         Setosa\n",
      "98     Versicolor\n",
      "75     Versicolor\n",
      "16         Setosa\n",
      "131     Virginica\n",
      "56     Versicolor\n",
      "141     Virginica\n",
      "44         Setosa\n",
      "29         Setosa\n",
      "120     Virginica\n",
      "94     Versicolor\n",
      "5          Setosa\n",
      "102     Virginica\n",
      "51     Versicolor\n",
      "78     Versicolor\n",
      "42         Setosa\n",
      "92     Versicolor\n",
      "66     Versicolor\n",
      "31         Setosa\n",
      "35         Setosa\n",
      "90     Versicolor\n",
      "84     Versicolor\n",
      "77     Versicolor\n",
      "40         Setosa\n",
      "125     Virginica\n",
      "99     Versicolor\n",
      "33         Setosa\n",
      "19         Setosa\n",
      "73     Versicolor\n",
      "146     Virginica\n",
      "91     Versicolor\n",
      "135     Virginica\n",
      "69     Versicolor\n",
      "128     Virginica\n",
      "114     Virginica\n",
      "48         Setosa\n",
      "53     Versicolor\n",
      "28         Setosa\n",
      "54     Versicolor\n",
      "108     Virginica\n",
      "112     Virginica\n",
      "17         Setosa\n",
      "119     Virginica\n",
      "103     Virginica\n",
      "58     Versicolor\n",
      "Name: variety, dtype: object\n",
      "Predicciones\n",
      "['Setosa' 'Versicolor' 'Versicolor' 'Setosa' 'Virginica' 'Versicolor'\n",
      " 'Virginica' 'Setosa' 'Setosa' 'Virginica' 'Versicolor' 'Setosa'\n",
      " 'Virginica' 'Versicolor' 'Versicolor' 'Setosa' 'Versicolor' 'Versicolor'\n",
      " 'Setosa' 'Setosa' 'Versicolor' 'Versicolor' 'Virginica' 'Setosa'\n",
      " 'Virginica' 'Versicolor' 'Setosa' 'Setosa' 'Versicolor' 'Virginica'\n",
      " 'Versicolor' 'Virginica' 'Versicolor' 'Virginica' 'Virginica' 'Setosa'\n",
      " 'Versicolor' 'Setosa' 'Versicolor' 'Virginica' 'Virginica' 'Setosa'\n",
      " 'Versicolor' 'Virginica' 'Versicolor']\n",
      "Error: 4.44%\n",
      "Acierto: 95.56%\n"
     ]
    }
   ],
   "source": [
    "import pandas as pd\n",
    "from sklearn.tree import DecisionTreeRegressor\n",
    "from sklearn.model_selection import train_test_split\n",
    "from sklearn.preprocessing import LabelEncoder\n",
    "from sklearn.metrics import mean_absolute_error\n",
    "from sklearn.metrics import accuracy_score\n",
    "\n",
    "label_encoder = LabelEncoder()\n",
    "\n",
    "ruta = \"iris.csv\"\n",
    "model = pd.read_csv(ruta)\n",
    "\n",
    "columnas = [\"sepal.length\", \"sepal.width\", \"petal.length\", \"petal.width\"]\n",
    "y = model.variety\n",
    "X = model[columnas]\n",
    "\n",
    "train_X, val_X, train_y, val_y = train_test_split(X, y, test_size=0.3, random_state=1)\n",
    "train_y_encoded = label_encoder.fit_transform(train_y)\n",
    "\n",
    "val_y_encoded = label_encoder.fit_transform(val_y)\n",
    "\n",
    "tree = DecisionTreeRegressor(random_state=0)\n",
    "tree.fit(train_X, train_y_encoded) \n",
    "\n",
    "predictions_encoded = tree.predict(val_X)\n",
    "predictions_int = predictions_encoded.astype(int)\n",
    "predictions = label_encoder.inverse_transform(predictions_int)\n",
    "\n",
    "error = mean_absolute_error(val_y_encoded, predictions_encoded)\n",
    "accuracy = accuracy_score(val_y_encoded, predictions_encoded)\n",
    "print(\"Datos\")\n",
    "print(val_X)\n",
    "print(\"Resultados\")\n",
    "print(val_y)\n",
    "print(\"Predicciones\")\n",
    "print(predictions)\n",
    "print('Error: ' + str(round((error * 100),2)) + '%')\n",
    "print('Acierto: ' + str(round((accuracy * 100),2)) + '%')"
   ]
  },
  {
   "attachments": {},
   "cell_type": "markdown",
   "metadata": {},
   "source": [
    "2.0"
   ]
  },
  {
   "cell_type": "code",
   "execution_count": 6,
   "metadata": {},
   "outputs": [
    {
     "name": "stdout",
     "output_type": "stream",
     "text": [
      "['variety']\n",
      "Datos\n",
      "     sepal.length  sepal.width  petal.length  petal.width\n",
      "14            5.8          4.0           1.2          0.2\n",
      "98            5.1          2.5           3.0          1.1\n",
      "75            6.6          3.0           4.4          1.4\n",
      "16            5.4          3.9           1.3          0.4\n",
      "131           7.9          3.8           6.4          2.0\n",
      "56            6.3          3.3           4.7          1.6\n",
      "141           6.9          3.1           5.1          2.3\n",
      "44            5.1          3.8           1.9          0.4\n",
      "29            4.7          3.2           1.6          0.2\n",
      "120           6.9          3.2           5.7          2.3\n",
      "94            5.6          2.7           4.2          1.3\n",
      "5             5.4          3.9           1.7          0.4\n",
      "102           7.1          3.0           5.9          2.1\n",
      "51            6.4          3.2           4.5          1.5\n",
      "78            6.0          2.9           4.5          1.5\n",
      "42            4.4          3.2           1.3          0.2\n",
      "92            5.8          2.6           4.0          1.2\n",
      "66            5.6          3.0           4.5          1.5\n",
      "31            5.4          3.4           1.5          0.4\n",
      "35            5.0          3.2           1.2          0.2\n",
      "90            5.5          2.6           4.4          1.2\n",
      "84            5.4          3.0           4.5          1.5\n",
      "77            6.7          3.0           5.0          1.7\n",
      "40            5.0          3.5           1.3          0.3\n",
      "125           7.2          3.2           6.0          1.8\n",
      "99            5.7          2.8           4.1          1.3\n",
      "33            5.5          4.2           1.4          0.2\n",
      "19            5.1          3.8           1.5          0.3\n",
      "73            6.1          2.8           4.7          1.2\n",
      "146           6.3          2.5           5.0          1.9\n",
      "Resultados\n",
      "[['Setosa']\n",
      " ['Versicolor']\n",
      " ['Versicolor']\n",
      " ['Setosa']\n",
      " ['Virginica']\n",
      " ['Versicolor']\n",
      " ['Virginica']\n",
      " ['Setosa']\n",
      " ['Setosa']\n",
      " ['Virginica']\n",
      " ['Versicolor']\n",
      " ['Setosa']\n",
      " ['Virginica']\n",
      " ['Versicolor']\n",
      " ['Versicolor']\n",
      " ['Setosa']\n",
      " ['Versicolor']\n",
      " ['Versicolor']\n",
      " ['Setosa']\n",
      " ['Setosa']\n",
      " ['Versicolor']\n",
      " ['Versicolor']\n",
      " ['Versicolor']\n",
      " ['Setosa']\n",
      " ['Virginica']\n",
      " ['Versicolor']\n",
      " ['Setosa']\n",
      " ['Setosa']\n",
      " ['Versicolor']\n",
      " ['Virginica']]\n",
      "Predicciones\n",
      "['Setosa' 'Versicolor' 'Versicolor' 'Setosa' 'Virginica' 'Versicolor'\n",
      " 'Virginica' 'Setosa' 'Setosa' 'Virginica' 'Versicolor' 'Setosa'\n",
      " 'Virginica' 'Versicolor' 'Versicolor' 'Setosa' 'Versicolor' 'Versicolor'\n",
      " 'Setosa' 'Setosa' 'Versicolor' 'Versicolor' 'Virginica' 'Setosa'\n",
      " 'Virginica' 'Versicolor' 'Setosa' 'Setosa' 'Versicolor' 'Virginica']\n",
      "Error: 3.33%\n",
      "Predicciones\n",
      "['Setosa' 'Versicolor' 'Versicolor' 'Setosa' 'Virginica' 'Versicolor'\n",
      " 'Virginica' 'Setosa' 'Setosa' 'Virginica' 'Versicolor' 'Setosa'\n",
      " 'Virginica' 'Versicolor' 'Versicolor' 'Setosa' 'Versicolor' 'Versicolor'\n",
      " 'Setosa' 'Setosa' 'Versicolor' 'Versicolor' 'Virginica' 'Setosa'\n",
      " 'Virginica' 'Versicolor' 'Setosa' 'Setosa' 'Versicolor' 'Versicolor']\n",
      "Error: 3.52%\n"
     ]
    }
   ],
   "source": [
    "import pandas as pd\n",
    "from sklearn.tree import DecisionTreeRegressor\n",
    "from sklearn.model_selection import train_test_split\n",
    "from sklearn.preprocessing import LabelEncoder\n",
    "from sklearn.preprocessing import OrdinalEncoder\n",
    "from sklearn.metrics import mean_absolute_error\n",
    "from sklearn.ensemble import RandomForestRegressor\n",
    "\n",
    "label_encoder = LabelEncoder()\n",
    "\n",
    "ruta = \"iris.csv\"\n",
    "model = pd.read_csv(ruta)\n",
    "\n",
    "columnas = [\"sepal.length\", \"sepal.width\", \"petal.length\", \"petal.width\"]\n",
    "\n",
    "s = (model.dtypes == 'object')\n",
    "object_cols = list(s[s].index)\n",
    "print(object_cols)\n",
    "\n",
    "ordinal_encoder = OrdinalEncoder()\n",
    "\n",
    "model_copy = model.copy()\n",
    "model_copy[object_cols] = ordinal_encoder.fit_transform(model[object_cols])\n",
    "\n",
    "y = model_copy.variety\n",
    "X = model_copy[columnas]\n",
    "\n",
    "train_X, val_X, train_y, val_y = train_test_split(X, y, test_size=0.2, random_state=1)\n",
    "\n",
    "forest = RandomForestRegressor(n_estimators= 200, random_state=0)\n",
    "tree = DecisionTreeRegressor(random_state=0)\n",
    "tree.fit(train_X, train_y)\n",
    "forest.fit(train_X, train_y)\n",
    "\n",
    "f_predictions = forest.predict(val_X)\n",
    "predictions = tree.predict(val_X)\n",
    "\n",
    "f_error = mean_absolute_error(val_y, f_predictions)\n",
    "error = mean_absolute_error(val_y, predictions)\n",
    "\n",
    "# Reshape predictions to a 2D array\n",
    "predictions_reshaped = predictions.reshape(-1, 1)\n",
    "f_predictions_reshaped = f_predictions.reshape(-1, 1)\n",
    "# Inverse transform the reshaped predictions\n",
    "predictions_inverse = ordinal_encoder.inverse_transform(predictions_reshaped)\n",
    "f_predictions_inverse = ordinal_encoder.inverse_transform(f_predictions_reshaped)\n",
    "\n",
    "# Reshape val_y to a 2D array\n",
    "val_y_reshaped = val_y.values.reshape(-1, 1)\n",
    "\n",
    "# Inverse transform the reshaped val_y\n",
    "val_y_inverse = ordinal_encoder.inverse_transform(val_y_reshaped)\n",
    "print(\"Datos\")\n",
    "print(val_X)\n",
    "print(\"Resultados\")\n",
    "print(val_y_inverse)\n",
    "print(\"Predicciones\")\n",
    "print(predictions_inverse.flatten())\n",
    "print('Error: ' + str(round((error * 100), 2)) + '%')\n",
    "\n",
    "print(\"Predicciones\")\n",
    "print(f_predictions_inverse.flatten())\n",
    "print('Error: ' + str(round((f_error * 100), 2)) + '%')\n"
   ]
  },
  {
   "attachments": {},
   "cell_type": "markdown",
   "metadata": {},
   "source": [
    "Todo"
   ]
  },
  {
   "cell_type": "code",
   "execution_count": null,
   "metadata": {},
   "outputs": [],
   "source": [
    "# Define the model\n",
    "my_model_2 = XGBRegressor(n_estimators = 1000, learning_rate = 0.05 , n_job = 5) # Your code here\n",
    "\n",
    "# Fit the model\n",
    "my_model_2.fit(X_train, y_train, early_stopping_rounds = 5,\n",
    "              eval_set([X_valid, y_valid]),verbose=False) # Your code here\n",
    "\n",
    "# Get predictions\n",
    "predictions_2 = my_model_2.predict(X_valid) # Your code here\n",
    "\n",
    "# Calculate MAE\n",
    "mae_2 = mean_absolute_error(y_valid, predictions_2) # Your code here\n",
    "\n",
    "# Uncomment to print MAE\n",
    "print(\"Mean Absolute Error:\" , mae_2)\n",
    "\n"
   ]
  }
 ],
 "metadata": {
  "interpreter": {
   "hash": "916dbcbb3f70747c44a77c7bcd40155683ae19c65e1c03b4aa3499c5328201f1"
  },
  "kernelspec": {
   "display_name": "Python 3.10.6 64-bit",
   "language": "python",
   "name": "python3"
  },
  "language_info": {
   "codemirror_mode": {
    "name": "ipython",
    "version": 3
   },
   "file_extension": ".py",
   "mimetype": "text/x-python",
   "name": "python",
   "nbconvert_exporter": "python",
   "pygments_lexer": "ipython3",
   "version": "3.10.6"
  },
  "orig_nbformat": 4
 },
 "nbformat": 4,
 "nbformat_minor": 2
}
