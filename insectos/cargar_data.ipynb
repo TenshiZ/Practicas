{
 "cells": [
  {
   "cell_type": "markdown",
   "metadata": {},
   "source": [
    "\n"
   ]
  },
  {
   "cell_type": "code",
   "execution_count": null,
   "metadata": {},
   "outputs": [],
   "source": [
    "import tensorflow as tf\n",
    "from tensorflow import keras\n",
    "from tensorflow.keras import layers\n",
    "import tensorflow_datasets as tfds\n",
    "import numpy as np\n",
    "import math, re, os,random,shutil, csv\n",
    "import matplotlib.pyplot as plt\n",
    "import warnings\n",
    "import glob\n",
    "from sklearn.preprocessing import LabelEncoder\n",
    "import seaborn as sns\n",
    "import pandas as pd\n",
    "from collections import defaultdict"
   ]
  },
  {
   "cell_type": "code",
   "execution_count": null,
   "metadata": {},
   "outputs": [],
   "source": [
    "directorio = 'carpetas'\n",
    "\n",
    "clases = os.listdir(directorio) #lista con las carpetas de los directorios"
   ]
  },
  {
   "cell_type": "code",
   "execution_count": null,
   "metadata": {},
   "outputs": [],
   "source": [
    "train_data = []\n",
    "val_data = []\n",
    "test_data = []"
   ]
  },
  {
   "cell_type": "code",
   "execution_count": null,
   "metadata": {},
   "outputs": [],
   "source": [
    "for clase in clases:\n",
    "    clase_dir = os.path.join(directorio, clase)\n",
    "    archivos = os.listdir(clase_dir)\n",
    "    random.shuffle(archivos)  # Mezclar aleatoriamente los archivos de la clase\n",
    "\n",
    "    # Calcular los tamaños de los conjuntos de entrenamiento, validación y prueba\n",
    "    total_archivos = len(archivos)\n",
    "    train_size = int(0.7 * total_archivos)\n",
    "    val_size = int(0.3 * total_archivos * 0.3)\n",
    "    test_size = total_archivos - train_size - val_size\n",
    "\n",
    "    # Dividir los archivos en los conjuntos correspondientes\n",
    "    train_files = archivos[:train_size] #coger hasta train size\n",
    "    val_files = archivos[train_size:train_size + val_size] #desde train hasta valsize\n",
    "    test_files = archivos[train_size + val_size:] #test\n",
    "\n",
    "    # Crear las rutas completas a los archivos de cada conjunto\n",
    "    train_files = [os.path.join(clase_dir, archivo) for archivo in train_files]  #ruta imagenes en\n",
    "    val_files = [os.path.join(clase_dir, archivo) for archivo in val_files]\n",
    "    test_files = [os.path.join(clase_dir, archivo) for archivo in test_files]\n",
    "\n",
    "    # Agregar los archivos de cada conjunto a las listas finales\n",
    "    train_data.extend(train_files) #lista de imagen en cada fase\n",
    "    val_data.extend(val_files)\n",
    "    test_data.extend(test_files)"
   ]
  },
  {
   "cell_type": "code",
   "execution_count": null,
   "metadata": {},
   "outputs": [],
   "source": [
    "destination_dir = \"directorios\"\n",
    "\n",
    "# Crear subdirectorios para train, val y test\n",
    "train_dir = os.path.join(destination_dir, \"train\")\n",
    "val_dir = os.path.join(destination_dir, \"val\")\n",
    "test_dir = os.path.join(destination_dir, \"test\")\n",
    "\n",
    "os.makedirs(train_dir, exist_ok=True)\n",
    "os.makedirs(val_dir, exist_ok=True)\n",
    "os.makedirs(test_dir, exist_ok=True)\n"
   ]
  },
  {
   "cell_type": "code",
   "execution_count": null,
   "metadata": {},
   "outputs": [],
   "source": [
    "# Copiar imágenes a las subcarpetas de clase dentro de la carpeta 'train'\n",
    "for image_path in train_data:\n",
    "    # Obtener el nombre de la clase basado en el nombre de la carpeta\n",
    "    class_name = os.path.basename(os.path.dirname(image_path))\n",
    "\n",
    "    # Crear la subcarpeta de clase si no existe\n",
    "    class_dir = os.path.join(train_dir, class_name)\n",
    "    os.makedirs(class_dir, exist_ok=True)\n",
    "\n",
    "    # Copiar la imagen a la subcarpeta de clase\n",
    "    filename = os.path.basename(image_path)\n",
    "    destination_path = os.path.join(class_dir, filename)\n",
    "    shutil.copy2(image_path, destination_path)"
   ]
  },
  {
   "cell_type": "code",
   "execution_count": null,
   "metadata": {},
   "outputs": [],
   "source": [
    "# Copiar imágenes a las subcarpetas de clase dentro de la carpeta 'train'\n",
    "for image_path in val_data:\n",
    "    # Obtener el nombre de la clase basado en el nombre de la carpeta\n",
    "    class_name = os.path.basename(os.path.dirname(image_path))\n",
    "\n",
    "    # Crear la subcarpeta de clase si no existe\n",
    "    class_dir = os.path.join(val_dir, class_name)\n",
    "    os.makedirs(class_dir, exist_ok=True)\n",
    "\n",
    "    # Copiar la imagen a la subcarpeta de clase\n",
    "    filename = os.path.basename(image_path)\n",
    "    destination_path = os.path.join(class_dir, filename)\n",
    "    shutil.copy2(image_path, destination_path)"
   ]
  },
  {
   "cell_type": "code",
   "execution_count": null,
   "metadata": {},
   "outputs": [],
   "source": [
    "# Copiar imágenes a las subcarpetas de clase dentro de la carpeta 'train'\n",
    "for image_path in test_data:\n",
    "    # Obtener el nombre de la clase basado en el nombre de la carpeta\n",
    "    class_name = os.path.basename(os.path.dirname(image_path))\n",
    "\n",
    "    # Crear la subcarpeta de clase si no existe\n",
    "    class_dir = os.path.join(test_dir, class_name)\n",
    "    os.makedirs(class_dir, exist_ok=True)\n",
    "\n",
    "    # Copiar la imagen a la subcarpeta de clase\n",
    "    filename = os.path.basename(image_path)\n",
    "    destination_path = os.path.join(class_dir, filename)\n",
    "    shutil.copy2(image_path, destination_path)"
   ]
  }
 ],
 "metadata": {
  "language_info": {
   "name": "python"
  },
  "orig_nbformat": 4
 },
 "nbformat": 4,
 "nbformat_minor": 2
}
